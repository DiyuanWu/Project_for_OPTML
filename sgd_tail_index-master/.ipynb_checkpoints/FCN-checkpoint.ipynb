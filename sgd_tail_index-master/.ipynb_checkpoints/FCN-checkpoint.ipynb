{
 "cells": [
  {
   "cell_type": "markdown",
   "metadata": {
    "id": "OadBN6Gfj3tr"
   },
   "source": [
    "## Training and analysis for fully connected network\n"
   ]
  },
  {
   "cell_type": "markdown",
   "metadata": {
    "id": "3h7BnG9QkA6K"
   },
   "source": [
    "### Configuration\n",
    "We use google colab for training"
   ]
  },
  {
   "cell_type": "code",
   "execution_count": 7,
   "metadata": {
    "colab": {
     "base_uri": "https://localhost:8080/"
    },
    "executionInfo": {
     "elapsed": 16345,
     "status": "ok",
     "timestamp": 1623138724400,
     "user": {
      "displayName": "Diyuan Wu",
      "photoUrl": "",
      "userId": "04027313270452425129"
     },
     "user_tz": -120
    },
    "id": "lvuGPYHEj-5V",
    "outputId": "8667fd5d-311d-45e6-ee64-f6aefad59773"
   },
   "outputs": [
    {
     "name": "stdout",
     "output_type": "stream",
     "text": [
      "Mounted at /content/drive\n",
      "/content/drive/My Drive\n"
     ]
    }
   ],
   "source": [
    "from google.colab import drive\n",
    "drive.mount('/content/drive')\n",
    "%cd /content/drive/My\\ Drive/"
   ]
  },
  {
   "cell_type": "code",
   "execution_count": 11,
   "metadata": {
    "colab": {
     "base_uri": "https://localhost:8080/"
    },
    "executionInfo": {
     "elapsed": 218,
     "status": "ok",
     "timestamp": 1623138765289,
     "user": {
      "displayName": "Diyuan Wu",
      "photoUrl": "",
      "userId": "04027313270452425129"
     },
     "user_tz": -120
    },
    "id": "GZ5EVu0ym_51",
    "outputId": "2de622da-7961-4612-e558-5b542a2606b8"
   },
   "outputs": [
    {
     "name": "stdout",
     "output_type": "stream",
     "text": [
      "/content/drive/My Drive/sgd_tail_index_project\n",
      "/content/drive/My Drive/sgd_tail_index_project\n"
     ]
    }
   ],
   "source": [
    "%cd sgd_tail_index_project/\n",
    "!pwd"
   ]
  },
  {
   "cell_type": "markdown",
   "metadata": {
    "id": "7HfNWP4dkOLz"
   },
   "source": [
    "Install the `PyHessian` library"
   ]
  },
  {
   "cell_type": "code",
   "execution_count": 12,
   "metadata": {
    "colab": {
     "base_uri": "https://localhost:8080/"
    },
    "executionInfo": {
     "elapsed": 548,
     "status": "ok",
     "timestamp": 1623138768569,
     "user": {
      "displayName": "Diyuan Wu",
      "photoUrl": "",
      "userId": "04027313270452425129"
     },
     "user_tz": -120
    },
    "id": "m32J7XrtkMnB",
    "outputId": "bafd1124-3f29-4624-a3d3-ee7cea73633b"
   },
   "outputs": [
    {
     "name": "stdout",
     "output_type": "stream",
     "text": [
      "fatal: destination path 'PyHessian' already exists and is not an empty directory.\n"
     ]
    }
   ],
   "source": [
    "!git clone https://github.com/amirgholami/PyHessian.git\n",
    "\n",
    "import sys\n",
    "sys.path.append('PyHessian/') # change it to your path"
   ]
  },
  {
   "cell_type": "code",
   "execution_count": 13,
   "metadata": {
    "executionInfo": {
     "elapsed": 220,
     "status": "ok",
     "timestamp": 1623138771313,
     "user": {
      "displayName": "Diyuan Wu",
      "photoUrl": "",
      "userId": "04027313270452425129"
     },
     "user_tz": -120
    },
    "id": "2kL6f0sIksSa"
   },
   "outputs": [],
   "source": [
    "import os\n",
    "import subprocess\n",
    "import itertools\n",
    "import time\n",
    "import torch\n",
    "\n",
    "import numpy as np\n",
    "import matplotlib.pyplot as plt\n",
    "\n",
    "\n",
    "# folder to save\n",
    "base_path = 'training_results'\n",
    "if not os.path.exists(base_path):\n",
    "    os.makedirs(base_path)"
   ]
  },
  {
   "cell_type": "markdown",
   "metadata": {
    "id": "HBVzjc9oj_z4"
   },
   "source": [
    "### Training the neural network"
   ]
  },
  {
   "cell_type": "markdown",
   "metadata": {
    "id": "IxCAULtFlE9c"
   },
   "source": [
    "Run the following command to train the neural network, we just provide one example here. For training the different  network , we just need to modify the parameters in the command. \n"
   ]
  },
  {
   "cell_type": "markdown",
   "metadata": {
    "id": "p24kFzQy0CZH"
   },
   "source": [
    "- --save_dir: the fold to save the result\n",
    "- --width, --depth : width and depth of the fully connected network\n",
    "- --dataset: cifar10 or mnist\n",
    "- --model: in this experiment, we use fc\n",
    "- --iterations: for mnist, we train 5000 steps, and for cifar, we train 10000 steps\n",
    "- --eval_freq: the frequnce of record the results \n",
    "- --close_check_lb , --close_check_hb ,--close_check_freq: this is for fine-grained analysis. For example, if one need to record the result for every 10 step in 300-400 steps, one can set --close_check_lb 300, --close_check_hb 400,--close_check_freq 10\n",
    "- --eval_Hessian_freq: the frequence of the calculate the Hessian."
   ]
  },
  {
   "cell_type": "code",
   "execution_count": 14,
   "metadata": {
    "colab": {
     "base_uri": "https://localhost:8080/"
    },
    "executionInfo": {
     "elapsed": 10778,
     "status": "ok",
     "timestamp": 1623138784353,
     "user": {
      "displayName": "Diyuan Wu",
      "photoUrl": "",
      "userId": "04027313270452425129"
     },
     "user_tz": -120
    },
    "id": "ixw7xLRlk6pj",
    "outputId": "63576428-37e5-4ee6-9e40-e9188f6034c3"
   },
   "outputs": [
    {
     "name": "stdout",
     "output_type": "stream",
     "text": [
      "False\n",
      "cpu\n",
      "Namespace(batch_size_eval=100, batch_size_train=100, close_check_freq=1, close_check_hb=301, close_check_lb=300, criterion='NLL', dataset='cifar10', depth=4, device=device(type='cpu'), double=False, eval_Hessian_freq=1000, eval_freq=100, iterations=10000, lr=0.1, lr_schedule=True, model='fc', mom=0, no_cuda=False, path='./data', print_freq=100, save_dir='training_results/4_0256_00_cifar10_NLL_fc', scale=64, seed=0, use_cuda=False, verbose=False, wd=0, width=256)\n",
      "Traceback (most recent call last):\n",
      "  File \"main.py\", line 123, in <module>\n",
      "    train_loader, test_loader_eval, train_loader_eval, num_classes = get_data(args)\n",
      "  File \"/content/drive/My Drive/sgd_tail_index_project/utils.py\", line 112, in get_data\n",
      "    transform=transforms.Compose(trans)\n",
      "  File \"/usr/local/lib/python3.7/dist-packages/torchvision/datasets/cifar.py\", line 65, in __init__\n",
      "    self.download()\n",
      "  File \"/usr/local/lib/python3.7/dist-packages/torchvision/datasets/cifar.py\", line 140, in download\n",
      "    if self._check_integrity():\n",
      "  File \"/usr/local/lib/python3.7/dist-packages/torchvision/datasets/cifar.py\", line 135, in _check_integrity\n",
      "    if not check_integrity(fpath, md5):\n",
      "  File \"/usr/local/lib/python3.7/dist-packages/torchvision/datasets/utils.py\", line 67, in check_integrity\n",
      "    return check_md5(fpath, md5)\n",
      "  File \"/usr/local/lib/python3.7/dist-packages/torchvision/datasets/utils.py\", line 59, in check_md5\n",
      "    return md5 == calculate_md5(fpath, **kwargs)\n",
      "  File \"/usr/local/lib/python3.7/dist-packages/torchvision/datasets/utils.py\", line 53, in calculate_md5\n",
      "    for chunk in iter(lambda: f.read(chunk_size), b''):\n",
      "  File \"/usr/local/lib/python3.7/dist-packages/torchvision/datasets/utils.py\", line 53, in <lambda>\n",
      "    for chunk in iter(lambda: f.read(chunk_size), b''):\n",
      "KeyboardInterrupt\n"
     ]
    }
   ],
   "source": [
    "!python main.py --save_dir training_results/4_0256_00_cifar10_NLL_fc --width 256 --depth 4 --seed 0 \\\n",
    "--dataset cifar10 --model fc --lr 0.1 --lr_schedule --iterations 10000 --eval_freq 100 --close_check_lb 300 --close_check_hb 301 \\\n",
    "--close_check_freq 1 --eval_Hessian_freq 1000 "
   ]
  },
  {
   "cell_type": "markdown",
   "metadata": {
    "id": "sw3VpIODlU80"
   },
   "source": [
    "### *Analysis*\n",
    "Read the training results and analysis the results"
   ]
  },
  {
   "cell_type": "markdown",
   "metadata": {
    "id": "j5SMJK76mdmt"
   },
   "source": [
    "For the different networks, please change the `model_dir` to the corresponding."
   ]
  },
  {
   "cell_type": "code",
   "execution_count": 123,
   "metadata": {
    "executionInfo": {
     "elapsed": 214,
     "status": "ok",
     "timestamp": 1623146259615,
     "user": {
      "displayName": "Diyuan Wu",
      "photoUrl": "",
      "userId": "04027313270452425129"
     },
     "user_tz": -120
    },
    "id": "kTsPloTVmKrS"
   },
   "outputs": [],
   "source": [
    "save_dir = './training_results/'\n",
    "model_dir = '2_0064_00_cifar10_NLL_fc'"
   ]
  },
  {
   "cell_type": "code",
   "execution_count": 124,
   "metadata": {
    "executionInfo": {
     "elapsed": 234,
     "status": "ok",
     "timestamp": 1623146261587,
     "user": {
      "displayName": "Diyuan Wu",
      "photoUrl": "",
      "userId": "04027313270452425129"
     },
     "user_tz": -120
    },
    "id": "4IshUeB_luIU"
   },
   "outputs": [],
   "source": [
    "\n",
    "\n",
    "# The parameters should incorperate with the above configurations\n",
    "iter = 5000 \n",
    "eval_freq = 100 \n",
    "close_check_lb = 300\n",
    "close_check_hb = 301\n",
    "close_check_freq = 1 \n",
    "eval_Hessian_freq = 1000#5000\n",
    "\n",
    "sample_step =10"
   ]
  },
  {
   "cell_type": "code",
   "execution_count": 126,
   "metadata": {
    "executionInfo": {
     "elapsed": 217,
     "status": "ok",
     "timestamp": 1623146266356,
     "user": {
      "displayName": "Diyuan Wu",
      "photoUrl": "",
      "userId": "04027313270452425129"
     },
     "user_tz": -120
    },
    "id": "wM5ojOXFmF8b"
   },
   "outputs": [],
   "source": [
    "import torch\n",
    "import numpy as np\n",
    "import pandas as pd\n",
    "\n",
    "import matplotlib.pyplot as plt\n",
    "\n",
    "\n",
    "\n",
    "evaluation_history_TEST = torch.load(save_dir + model_dir+'/evaluation_history_TEST.hist')\n",
    "evaluation_history_TEST = np.array(evaluation_history_TEST)[:-1] # remove the last result,\n",
    "                                                                 # which is evaluated at the end of training\n",
    "evaluation_history_TRAIN = torch.load(save_dir + model_dir+'/evaluation_history_TRAIN.hist')\n",
    "# evaluation_history_TRAIN.hist saves all evaluation done on the **whole** training set\n",
    "evaluation_history_TRAIN = np.array(evaluation_history_TRAIN)[:-1] "
   ]
  },
  {
   "cell_type": "markdown",
   "metadata": {
    "id": "P93BeWn0quyU"
   },
   "source": [
    "Calculate the tail index"
   ]
  },
  {
   "cell_type": "code",
   "execution_count": 127,
   "metadata": {
    "colab": {
     "base_uri": "https://localhost:8080/"
    },
    "executionInfo": {
     "elapsed": 209,
     "status": "ok",
     "timestamp": 1623146267567,
     "user": {
      "displayName": "Diyuan Wu",
      "photoUrl": "",
      "userId": "04027313270452425129"
     },
     "user_tz": -120
    },
    "id": "CsWlD3HgmwWZ",
    "outputId": "0decbc5e-2ab5-41a3-a004-6161760f7f66"
   },
   "outputs": [
    {
     "name": "stdout",
     "output_type": "stream",
     "text": [
      "averaged alpha (test): 1.136493\n",
      "averaged alpha (train): 1.162229\n"
     ]
    }
   ],
   "source": [
    "# we compute the average of the tail-index measurements for the last 10K iterations\n",
    "averaged_alpha_TEST = evaluation_history_TEST[-1000//eval_freq:,-1].mean() \n",
    "averaged_alpha_TRAIN = evaluation_history_TRAIN[-1000//eval_freq:,-1].mean() \n",
    "\n",
    "print('averaged alpha (test): %f'%averaged_alpha_TEST)\n",
    "print('averaged alpha (train): %f'%averaged_alpha_TRAIN)"
   ]
  },
  {
   "cell_type": "markdown",
   "metadata": {
    "id": "O8rBaboItUdj"
   },
   "source": [
    "Plot the train and test loss, showing that the training procedure convergence"
   ]
  },
  {
   "cell_type": "code",
   "execution_count": 128,
   "metadata": {
    "executionInfo": {
     "elapsed": 216,
     "status": "ok",
     "timestamp": 1623146269178,
     "user": {
      "displayName": "Diyuan Wu",
      "photoUrl": "",
      "userId": "04027313270452425129"
     },
     "user_tz": -120
    },
    "id": "JHAZZHq8qPxZ"
   },
   "outputs": [],
   "source": [
    "train_index = evaluation_history_TRAIN[:,0]\n",
    "train_losses = evaluation_history_TRAIN[:,1]\n",
    "test_losses = evaluation_history_TEST[:,1]"
   ]
  },
  {
   "cell_type": "code",
   "execution_count": 129,
   "metadata": {
    "colab": {
     "base_uri": "https://localhost:8080/",
     "height": 313
    },
    "executionInfo": {
     "elapsed": 407,
     "status": "ok",
     "timestamp": 1623146270407,
     "user": {
      "displayName": "Diyuan Wu",
      "photoUrl": "",
      "userId": "04027313270452425129"
     },
     "user_tz": -120
    },
    "id": "UuiK_a3PrrrV",
    "outputId": "4a949f34-6afe-4fd5-b254-35169e4e2900"
   },
   "outputs": [
    {
     "data": {
      "text/plain": [
       "Text(0.5, 1.0, 'Train and test loss')"
      ]
     },
     "execution_count": 129,
     "metadata": {
      "tags": []
     },
     "output_type": "execute_result"
    },
    {
     "data": {
      "image/png": "[encoded data removed]",
      "text/plain": [
       "<Figure size 432x288 with 1 Axes>"
      ]
     },
     "metadata": {
      "needs_background": "light",
      "tags": []
     },
     "output_type": "display_data"
    }
   ],
   "source": [
    "fig, ax = plt.subplots(figsize=(6, 4))\n",
    "ax.plot(train_index,train_losses,'b-',label='train_loss')\n",
    "ax.plot(train_index,test_losses,'g-',label='test_loss')\n",
    "\n",
    "\n",
    "#plt.ylim([0.5,1.5])\n",
    "ax.legend()\n",
    "plt.xlabel('steps')\n",
    "plt.ylabel('Loss')\n",
    "plt.title('Train and test loss')"
   ]
  },
  {
   "cell_type": "markdown",
   "metadata": {
    "id": "4Vb2UY4-truD"
   },
   "source": [
    "Plot the density figure of the eigenvalues of Hessian. \n",
    "\n",
    "Please change the file name `/eigenvalues_step5000.pyT` according to the training steps\n"
   ]
  },
  {
   "cell_type": "code",
   "execution_count": 35,
   "metadata": {
    "colab": {
     "base_uri": "https://localhost:8080/",
     "height": 315
    },
    "executionInfo": {
     "elapsed": 934,
     "status": "ok",
     "timestamp": 1623140622774,
     "user": {
      "displayName": "Diyuan Wu",
      "photoUrl": "",
      "userId": "04027313270452425129"
     },
     "user_tz": -120
    },
    "id": "MDWpL1_DsYXa",
    "outputId": "2200749b-eba7-4acb-8b73-0fdbec6e5685"
   },
   "outputs": [
    {
     "data": {
      "text/plain": [
       "<matplotlib.lines.Line2D at 0x7f9a6c346890>"
      ]
     },
     "execution_count": 35,
     "metadata": {
      "tags": []
     },
     "output_type": "execute_result"
    },
    {
     "data": {
      "image/png": "[encoded data removed]",
      "text/plain": [
       "<Figure size 432x288 with 1 Axes>"
      ]
     },
     "metadata": {
      "needs_background": "light",
      "tags": []
     },
     "output_type": "display_data"
    }
   ],
   "source": [
    "density_eigen, density_weight = torch.load(save_dir + model_dir+'/eigenvalues_step5000.pyT')\n",
    "from density_plot import get_esd_plot # ESD plot\n",
    "get_esd_plot(density_eigen, density_weight,save_dir)\n",
    "plt.axvline(0,c='k')"
   ]
  },
  {
   "cell_type": "code",
   "execution_count": null,
   "metadata": {
    "id": "K5Tb-bZuuFy2"
   },
   "outputs": [],
   "source": []
  }
 ],
 "metadata": {
  "colab": {
   "authorship_tag": "ABX9TyNbUsy8a56aHELcvMf+J4Qd",
   "name": "FCN.ipynb",
   "provenance": []
  },
  "kernelspec": {
   "display_name": "Python 3",
   "language": "python",
   "name": "python3"
  },
  "language_info": {
   "codemirror_mode": {
    "name": "ipython",
    "version": 3
   },
   "file_extension": ".py",
   "mimetype": "text/x-python",
   "name": "python",
   "nbconvert_exporter": "python",
   "pygments_lexer": "ipython3",
   "version": "3.9.4"
  }
 },
 "nbformat": 4,
 "nbformat_minor": 1
}
